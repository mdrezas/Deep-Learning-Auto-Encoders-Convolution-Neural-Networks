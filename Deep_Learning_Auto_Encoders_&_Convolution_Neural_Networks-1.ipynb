{
  "nbformat": 4,
  "nbformat_minor": 0,
  "metadata": {
    "colab": {
      "name": "Deep_Learning_Auto_Encoders_&_Convolution_Neural_Networks.ipynb",
      "provenance": [],
      "collapsed_sections": []
    },
    "kernelspec": {
      "name": "python3",
      "display_name": "Python 3"
    },
    "accelerator": "GPU"
  },
  "cells": [
    {
      "cell_type": "markdown",
      "source": [
        "## **Assignment - 6: Deep Learning – Auto-Encoders & Convolution Neural Networks**\n",
        "### ID: eo9232\n",
        "### Name: Md Reza\n",
        "### IE7860 - Winter 2022"
      ],
      "metadata": {
        "id": "HFc_lQOfxhTs"
      }
    },
    {
      "cell_type": "markdown",
      "source": [
        "# **Convolutional Neural Networks**"
      ],
      "metadata": {
        "id": "auhdi18H27BU"
      }
    },
    {
      "metadata": {
        "id": "D7U02zt_c8Ft"
      },
      "cell_type": "code",
      "source": [
        "from __future__ import print_function\n",
        "import numpy as np\n",
        "\n",
        "from tensorflow.keras.layers import Activation, Dense, Dropout\n",
        "from tensorflow.keras import layers, losses\n",
        "from tensorflow.keras.callbacks import EarlyStopping\n",
        "from tensorflow.keras.datasets import fashion_mnist\n",
        "from tensorflow.keras.models import Model\n",
        "\n",
        "from sklearn.model_selection import train_test_split\n",
        "from keras.models import Sequential\n",
        "from keras.layers import Conv2D, MaxPooling2D, Flatten, Dense, Dropout\n",
        "from keras.utils.np_utils import to_categorical\n",
        "\n",
        "import matplotlib.pyplot as plt\n",
        "\n",
        "import warnings\n",
        "warnings.filterwarnings('ignore')"
      ],
      "execution_count": 1,
      "outputs": []
    },
    {
      "cell_type": "markdown",
      "source": [
        "### **Data Loading & Preprocessing**"
      ],
      "metadata": {
        "id": "tP0BigpAxr6a"
      }
    },
    {
      "metadata": {
        "id": "ejfQluMac8Fw"
      },
      "cell_type": "code",
      "source": [
        "#loading data\n",
        "(x_train,y_train), (x_test,y_test) = fashion_mnist.load_data()\n",
        "# compute the number of labels\n",
        "num_labels = len(np.unique(y_train))"
      ],
      "execution_count": 2,
      "outputs": []
    },
    {
      "cell_type": "code",
      "source": [
        "# Reshaping data as needed by the model\n",
        "x_train = np.reshape(x_train,(-1,28,28,1))\n",
        "x_test = np.reshape(x_test,(-1,28,28,1))\n",
        "x_train.shape, x_test.shape, y_train.shape, y_test.shape"
      ],
      "metadata": {
        "id": "YSVTdgmz15zj",
        "colab": {
          "base_uri": "https://localhost:8080/"
        },
        "outputId": "65b38e2f-de25-423b-b8cf-1b7552f008d5"
      },
      "execution_count": 3,
      "outputs": [
        {
          "output_type": "execute_result",
          "data": {
            "text/plain": [
              "((60000, 28, 28, 1), (10000, 28, 28, 1), (60000,), (10000,))"
            ]
          },
          "metadata": {},
          "execution_count": 3
        }
      ]
    },
    {
      "metadata": {
        "id": "O_JncxhQARaI"
      },
      "cell_type": "code",
      "source": [
        "# Normalizing\n",
        "x_train = x_train/255\n",
        "x_test = x_test/255"
      ],
      "execution_count": 4,
      "outputs": []
    },
    {
      "metadata": {
        "id": "lnvVkc6ec8F3"
      },
      "cell_type": "code",
      "source": [
        "# Implementing one hot encoding\n",
        "y_train = to_categorical(y_train, num_classes=10)\n",
        "y_test = to_categorical(y_test, num_classes=10)"
      ],
      "execution_count": 5,
      "outputs": []
    },
    {
      "metadata": {
        "id": "Z-ltHdtbc8F7"
      },
      "cell_type": "code",
      "source": [
        "# Creating model object\n",
        "model = Sequential()"
      ],
      "execution_count": 6,
      "outputs": []
    },
    {
      "cell_type": "markdown",
      "source": [
        "### **Building The MLP Model**"
      ],
      "metadata": {
        "id": "qg67YXm6x73w"
      }
    },
    {
      "cell_type": "code",
      "source": [
        "# Network Parameters\n",
        "input_shape = (28,28,1)\n",
        "batch_size = 128\n",
        "kernel_size = 3\n",
        "pool_size = 2\n",
        "filters = 64\n",
        "dropout = 0.2\n",
        "\n",
        "# Model is a stack of CNN-ReLU-MaxPooling\n",
        "model = Sequential()\n",
        "model.add(Conv2D(filters=filters,\n",
        "                 kernel_size=kernel_size,\n",
        "                 activation='relu',\n",
        "                 input_shape=input_shape))\n",
        "model.add(MaxPooling2D(pool_size))\n",
        "model.add(Conv2D(filters=filters,\n",
        "                 kernel_size=kernel_size,\n",
        "                 activation='relu'))\n",
        "model.add(MaxPooling2D(pool_size))\n",
        "model.add(Conv2D(filters=filters,\n",
        "                 kernel_size=kernel_size,\n",
        "                 activation='relu'))\n",
        "model.add(Flatten())\n",
        "# dropout added as regularizer\n",
        "model.add(Dropout(dropout))\n",
        "# output layer is 10-dim one-hot vector\n",
        "model.add(Dense(num_labels))\n",
        "model.add(Activation('softmax'))\n",
        "model.summary()"
      ],
      "metadata": {
        "id": "2TO7L1cbaIQ7",
        "colab": {
          "base_uri": "https://localhost:8080/"
        },
        "outputId": "1c94768e-de35-4858-cf06-0183d748df4e"
      },
      "execution_count": 7,
      "outputs": [
        {
          "output_type": "stream",
          "name": "stdout",
          "text": [
            "Model: \"sequential_1\"\n",
            "_________________________________________________________________\n",
            " Layer (type)                Output Shape              Param #   \n",
            "=================================================================\n",
            " conv2d (Conv2D)             (None, 26, 26, 64)        640       \n",
            "                                                                 \n",
            " max_pooling2d (MaxPooling2D  (None, 13, 13, 64)       0         \n",
            " )                                                               \n",
            "                                                                 \n",
            " conv2d_1 (Conv2D)           (None, 11, 11, 64)        36928     \n",
            "                                                                 \n",
            " max_pooling2d_1 (MaxPooling  (None, 5, 5, 64)         0         \n",
            " 2D)                                                             \n",
            "                                                                 \n",
            " conv2d_2 (Conv2D)           (None, 3, 3, 64)          36928     \n",
            "                                                                 \n",
            " flatten (Flatten)           (None, 576)               0         \n",
            "                                                                 \n",
            " dropout (Dropout)           (None, 576)               0         \n",
            "                                                                 \n",
            " dense (Dense)               (None, 10)                5770      \n",
            "                                                                 \n",
            " activation (Activation)     (None, 10)                0         \n",
            "                                                                 \n",
            "=================================================================\n",
            "Total params: 80,266\n",
            "Trainable params: 80,266\n",
            "Non-trainable params: 0\n",
            "_________________________________________________________________\n"
          ]
        }
      ]
    },
    {
      "cell_type": "markdown",
      "source": [
        "### **Model Compilation** ##"
      ],
      "metadata": {
        "id": "5LF8I4QTyD0z"
      }
    },
    {
      "metadata": {
        "id": "TUQetKGHc8GE"
      },
      "cell_type": "code",
      "source": [
        "model.compile(optimizer=\"adam\",loss=\"categorical_crossentropy\", metrics=[\"accuracy\"])"
      ],
      "execution_count": 8,
      "outputs": []
    },
    {
      "cell_type": "code",
      "source": [
        "es = EarlyStopping(monitor='val_loss', mode='auto',verbose=0, patience=5)"
      ],
      "metadata": {
        "id": "rJgYxjVAq4Zg"
      },
      "execution_count": 9,
      "outputs": []
    },
    {
      "metadata": {
        "id": "KYU-n7F9c8GH",
        "colab": {
          "base_uri": "https://localhost:8080/"
        },
        "outputId": "77ea8e7d-02ec-41b3-ca05-f6d02a7776c0"
      },
      "cell_type": "code",
      "source": [
        "# Training the model\n",
        "history = model.fit(x_train, y_train, batch_size=124, epochs=50, validation_data=(x_test,y_test), callbacks=[es])"
      ],
      "execution_count": 10,
      "outputs": [
        {
          "output_type": "stream",
          "name": "stdout",
          "text": [
            "Epoch 1/50\n",
            "484/484 [==============================] - 10s 10ms/step - loss: 0.6226 - accuracy: 0.7713 - val_loss: 0.4148 - val_accuracy: 0.8501\n",
            "Epoch 2/50\n",
            "484/484 [==============================] - 3s 7ms/step - loss: 0.3889 - accuracy: 0.8594 - val_loss: 0.3556 - val_accuracy: 0.8707\n",
            "Epoch 3/50\n",
            "484/484 [==============================] - 3s 7ms/step - loss: 0.3369 - accuracy: 0.8771 - val_loss: 0.3223 - val_accuracy: 0.8846\n",
            "Epoch 4/50\n",
            "484/484 [==============================] - 3s 7ms/step - loss: 0.3073 - accuracy: 0.8877 - val_loss: 0.3050 - val_accuracy: 0.8904\n",
            "Epoch 5/50\n",
            "484/484 [==============================] - 3s 7ms/step - loss: 0.2872 - accuracy: 0.8951 - val_loss: 0.2964 - val_accuracy: 0.8942\n",
            "Epoch 6/50\n",
            "484/484 [==============================] - 3s 7ms/step - loss: 0.2681 - accuracy: 0.9008 - val_loss: 0.2795 - val_accuracy: 0.8998\n",
            "Epoch 7/50\n",
            "484/484 [==============================] - 3s 7ms/step - loss: 0.2533 - accuracy: 0.9059 - val_loss: 0.2736 - val_accuracy: 0.9039\n",
            "Epoch 8/50\n",
            "484/484 [==============================] - 3s 7ms/step - loss: 0.2407 - accuracy: 0.9117 - val_loss: 0.2715 - val_accuracy: 0.9043\n",
            "Epoch 9/50\n",
            "484/484 [==============================] - 3s 7ms/step - loss: 0.2305 - accuracy: 0.9158 - val_loss: 0.2626 - val_accuracy: 0.9063\n",
            "Epoch 10/50\n",
            "484/484 [==============================] - 3s 7ms/step - loss: 0.2179 - accuracy: 0.9197 - val_loss: 0.2700 - val_accuracy: 0.9032\n",
            "Epoch 11/50\n",
            "484/484 [==============================] - 3s 7ms/step - loss: 0.2102 - accuracy: 0.9216 - val_loss: 0.2515 - val_accuracy: 0.9090\n",
            "Epoch 12/50\n",
            "484/484 [==============================] - 3s 7ms/step - loss: 0.1998 - accuracy: 0.9258 - val_loss: 0.2474 - val_accuracy: 0.9115\n",
            "Epoch 13/50\n",
            "484/484 [==============================] - 3s 7ms/step - loss: 0.1914 - accuracy: 0.9303 - val_loss: 0.2680 - val_accuracy: 0.9042\n",
            "Epoch 14/50\n",
            "484/484 [==============================] - 3s 7ms/step - loss: 0.1828 - accuracy: 0.9323 - val_loss: 0.2534 - val_accuracy: 0.9109\n",
            "Epoch 15/50\n",
            "484/484 [==============================] - 3s 7ms/step - loss: 0.1792 - accuracy: 0.9338 - val_loss: 0.2474 - val_accuracy: 0.9140\n",
            "Epoch 16/50\n",
            "484/484 [==============================] - 3s 7ms/step - loss: 0.1718 - accuracy: 0.9371 - val_loss: 0.2415 - val_accuracy: 0.9144\n",
            "Epoch 17/50\n",
            "484/484 [==============================] - 3s 7ms/step - loss: 0.1615 - accuracy: 0.9397 - val_loss: 0.2454 - val_accuracy: 0.9145\n",
            "Epoch 18/50\n",
            "484/484 [==============================] - 3s 7ms/step - loss: 0.1560 - accuracy: 0.9415 - val_loss: 0.2506 - val_accuracy: 0.9137\n",
            "Epoch 19/50\n",
            "484/484 [==============================] - 3s 7ms/step - loss: 0.1487 - accuracy: 0.9444 - val_loss: 0.2520 - val_accuracy: 0.9144\n",
            "Epoch 20/50\n",
            "484/484 [==============================] - 3s 7ms/step - loss: 0.1451 - accuracy: 0.9447 - val_loss: 0.2483 - val_accuracy: 0.9155\n",
            "Epoch 21/50\n",
            "484/484 [==============================] - 3s 7ms/step - loss: 0.1396 - accuracy: 0.9478 - val_loss: 0.2561 - val_accuracy: 0.9163\n"
          ]
        }
      ]
    },
    {
      "cell_type": "markdown",
      "source": [
        "### **Evaluate The MLP Model**"
      ],
      "metadata": {
        "id": "Xh551e3qxWME"
      }
    },
    {
      "cell_type": "markdown",
      "source": [
        "#### **Training accuracy** ####"
      ],
      "metadata": {
        "id": "wdvy5JxzyQt4"
      }
    },
    {
      "cell_type": "code",
      "source": [
        "# Evaluate Model\n",
        "TrainAccuracy = model.evaluate (x_train, y_train, verbose=0)\n",
        "\n",
        "for name, value in zip (model.metrics_names, TrainAccuracy):\n",
        "    print(\"Train - \" + name, ': ', value * 100)\n",
        "print()"
      ],
      "metadata": {
        "id": "dH45VZO1P8GE",
        "colab": {
          "base_uri": "https://localhost:8080/"
        },
        "outputId": "bcb6a4b5-fd34-4fb1-b080-f77f287c4590"
      },
      "execution_count": 11,
      "outputs": [
        {
          "output_type": "stream",
          "name": "stdout",
          "text": [
            "Train - loss :  10.948338359594345\n",
            "Train - accuracy :  96.04833126068115\n",
            "\n"
          ]
        }
      ]
    },
    {
      "cell_type": "markdown",
      "source": [
        "#### **Test accuracy** ####"
      ],
      "metadata": {
        "id": "mJis4ScmyUg1"
      }
    },
    {
      "cell_type": "code",
      "source": [
        "# Evaluate Model\n",
        "TestAccuracy = model.evaluate (x_test, y_test, verbose=0)\n",
        "\n",
        "for name, value in zip (model.metrics_names, TestAccuracy):\n",
        "    print(\"Test - \" + name, ': ', value * 100)\n",
        "print()"
      ],
      "metadata": {
        "id": "eUE43w_gQKaM",
        "colab": {
          "base_uri": "https://localhost:8080/"
        },
        "outputId": "6a211bc2-cc5a-4691-86ff-2c799ad7b9aa"
      },
      "execution_count": 12,
      "outputs": [
        {
          "output_type": "stream",
          "name": "stdout",
          "text": [
            "Test - loss :  25.606292486190796\n",
            "Test - accuracy :  91.62999987602234\n",
            "\n"
          ]
        }
      ]
    },
    {
      "cell_type": "code",
      "source": [
        "%config notebookBackend.figure_format = 'svg'\n",
        "\n",
        "def plot_metric(history, metric):\n",
        "    train_metrics = history.history[metric]\n",
        "    val_metrics = history.history['val_'+metric]\n",
        "    epochs = range(1, len(train_metrics) + 1)\n",
        "    plt.plot(epochs, train_metrics)\n",
        "    plt.plot(epochs, val_metrics)\n",
        "    plt.title('Training and validation '+ metric)\n",
        "    plt.xlabel(\"Epochs\")\n",
        "    plt.ylabel(metric)\n",
        "    plt.legend([\"train_\"+metric, 'val_'+metric])\n",
        "    plt.show()"
      ],
      "metadata": {
        "id": "xtW9AoqyQc91"
      },
      "execution_count": 13,
      "outputs": []
    },
    {
      "cell_type": "code",
      "source": [
        "plot_metric(history, 'accuracy')"
      ],
      "metadata": {
        "id": "pqgEF3C9QhvH",
        "colab": {
          "base_uri": "https://localhost:8080/",
          "height": 295
        },
        "outputId": "5a85b35c-1bbf-4303-b335-200ffbd0ba80"
      },
      "execution_count": 14,
      "outputs": [
        {
          "output_type": "display_data",
          "data": {
            "text/plain": [
              "<Figure size 432x288 with 1 Axes>"
            ],
            "image/png": "[encoded data removed]"
          },
          "metadata": {
            "needs_background": "light"
          }
        }
      ]
    },
    {
      "cell_type": "code",
      "source": [
        "plot_metric(history, 'loss')"
      ],
      "metadata": {
        "id": "jAEnoRcFQh7F",
        "colab": {
          "base_uri": "https://localhost:8080/",
          "height": 295
        },
        "outputId": "05f06d02-b169-4f1d-d859-24827b4fcf5c"
      },
      "execution_count": 15,
      "outputs": [
        {
          "output_type": "display_data",
          "data": {
            "text/plain": [
              "<Figure size 432x288 with 1 Axes>"
            ],
            "image/png": "[encoded data removed]"
          },
          "metadata": {
            "needs_background": "light"
          }
        }
      ]
    },
    {
      "cell_type": "code",
      "source": [
        "pos = np.argmin(history.history['val_loss'])\n",
        "print(\"The epoch with the minimum validation loss is:\", pos+1)\n",
        "print(\"The Validation Accuracy is: {0:.5f}\".format(history.history['val_accuracy'][pos]))"
      ],
      "metadata": {
        "colab": {
          "base_uri": "https://localhost:8080/"
        },
        "id": "c-wEoTKdXc7L",
        "outputId": "395a0d1e-6ab0-4d6c-fde2-936dacca6022"
      },
      "execution_count": 16,
      "outputs": [
        {
          "output_type": "stream",
          "name": "stdout",
          "text": [
            "The epoch with the minimum validation loss is: 16\n",
            "The Validation Accuracy is: 0.91440\n"
          ]
        }
      ]
    },
    {
      "cell_type": "markdown",
      "source": [
        "# **Autoencoder**"
      ],
      "metadata": {
        "id": "vzXuVt1xvVkw"
      }
    },
    {
      "cell_type": "code",
      "source": [
        "import keras\n",
        "from keras import layers\n",
        "from keras import regularizers"
      ],
      "metadata": {
        "id": "Ox718_20Bgoh"
      },
      "execution_count": 17,
      "outputs": []
    },
    {
      "cell_type": "markdown",
      "source": [
        "### **Data Loading & Preprocessing**"
      ],
      "metadata": {
        "id": "-b1folFnyuCs"
      }
    },
    {
      "cell_type": "code",
      "source": [
        "(x_train, _), (x_test, _) = fashion_mnist.load_data()\n",
        "x_train = x_train.astype('float32') / 255.\n",
        "x_test = x_test.astype('float32') / 255.\n",
        "x_train = x_train.reshape((len(x_train), np.prod(x_train.shape[1:])))\n",
        "x_test = x_test.reshape((len(x_test), np.prod(x_test.shape[1:])))\n",
        "print(x_train.shape)\n",
        "print(x_test.shape)"
      ],
      "metadata": {
        "id": "-FgBjOsRyqIy",
        "colab": {
          "base_uri": "https://localhost:8080/"
        },
        "outputId": "c36b0247-6bf6-4e26-fefa-b0039961b834"
      },
      "execution_count": 18,
      "outputs": [
        {
          "output_type": "stream",
          "name": "stdout",
          "text": [
            "(60000, 784)\n",
            "(10000, 784)\n"
          ]
        }
      ]
    },
    {
      "cell_type": "markdown",
      "source": [
        "### **Building The MLP Model**"
      ],
      "metadata": {
        "id": "4HXuA941yyon"
      }
    },
    {
      "cell_type": "code",
      "source": [
        "# This is the size of our encoded representations\n",
        "encoding_dim = 32  # 32 floats -> compression of factor 24.5, assuming the input is 784 floats\n",
        "\n",
        "# This is our input image\n",
        "input_img = keras.Input(shape=(784,))\n",
        "# Add a Dense layer with a L1 activity regularizer\n",
        "encoded = layers.Dense(encoding_dim, activation='relu',\n",
        "                activity_regularizer=regularizers.l1(10e-5))(input_img)\n",
        "# \"decoded\" is the lossy reconstruction of the input\n",
        "decoded = layers.Dense(784, activation='sigmoid')(encoded)\n",
        "\n",
        "# This model maps an input to its reconstruction\n",
        "autoencoder = keras.Model(input_img, decoded)"
      ],
      "metadata": {
        "id": "QGh_F1SAykrg"
      },
      "execution_count": 19,
      "outputs": []
    },
    {
      "cell_type": "code",
      "source": [
        "# This model maps an input to its encoded representation\n",
        "encoder = keras.Model(input_img, encoded)"
      ],
      "metadata": {
        "id": "jZ8mUPScBgv8"
      },
      "execution_count": 20,
      "outputs": []
    },
    {
      "cell_type": "code",
      "source": [
        "# This is our encoded (32-dimensional) input\n",
        "encoded_input = keras.Input(shape=(encoding_dim,))\n",
        "# Retrieve the last layer of the autoencoder model\n",
        "decoder_layer = autoencoder.layers[-1]\n",
        "# Create the decoder model\n",
        "decoder = keras.Model(encoded_input, decoder_layer(encoded_input))"
      ],
      "metadata": {
        "id": "VMGZCN4IBgzB"
      },
      "execution_count": 21,
      "outputs": []
    },
    {
      "cell_type": "markdown",
      "source": [
        "### **Model Compilation** ##"
      ],
      "metadata": {
        "id": "Cq3PTYRey7k-"
      }
    },
    {
      "cell_type": "code",
      "source": [
        "autoencoder.compile(optimizer='adam', loss='binary_crossentropy')\n",
        "autoencoder.summary()"
      ],
      "metadata": {
        "id": "X7Y7HEYMBg1-",
        "colab": {
          "base_uri": "https://localhost:8080/"
        },
        "outputId": "28d64720-5a62-4e81-be23-567e43c7eaad"
      },
      "execution_count": 22,
      "outputs": [
        {
          "output_type": "stream",
          "name": "stdout",
          "text": [
            "Model: \"model\"\n",
            "_________________________________________________________________\n",
            " Layer (type)                Output Shape              Param #   \n",
            "=================================================================\n",
            " input_1 (InputLayer)        [(None, 784)]             0         \n",
            "                                                                 \n",
            " dense_1 (Dense)             (None, 32)                25120     \n",
            "                                                                 \n",
            " dense_2 (Dense)             (None, 784)               25872     \n",
            "                                                                 \n",
            "=================================================================\n",
            "Total params: 50,992\n",
            "Trainable params: 50,992\n",
            "Non-trainable params: 0\n",
            "_________________________________________________________________\n"
          ]
        }
      ]
    },
    {
      "cell_type": "code",
      "source": [
        "ae_history = autoencoder.fit(x_train, x_train,\n",
        "                epochs=50,\n",
        "                batch_size=100,\n",
        "                shuffle=True,\n",
        "                validation_data=(x_test, x_test))\n"
      ],
      "metadata": {
        "id": "DpNdrXzNBg48",
        "colab": {
          "base_uri": "https://localhost:8080/"
        },
        "outputId": "2e45c4cd-ceef-456a-ab7b-eed83d0b6f94"
      },
      "execution_count": 23,
      "outputs": [
        {
          "output_type": "stream",
          "name": "stdout",
          "text": [
            "Epoch 1/50\n",
            "600/600 [==============================] - 2s 3ms/step - loss: 0.3724 - val_loss: 0.3263\n",
            "Epoch 2/50\n",
            "600/600 [==============================] - 2s 4ms/step - loss: 0.3143 - val_loss: 0.3085\n",
            "Epoch 3/50\n",
            "600/600 [==============================] - 2s 3ms/step - loss: 0.3014 - val_loss: 0.2998\n",
            "Epoch 4/50\n",
            "600/600 [==============================] - 2s 3ms/step - loss: 0.2960 - val_loss: 0.2966\n",
            "Epoch 5/50\n",
            "600/600 [==============================] - 2s 3ms/step - loss: 0.2932 - val_loss: 0.2944\n",
            "Epoch 6/50\n",
            "600/600 [==============================] - 2s 3ms/step - loss: 0.2917 - val_loss: 0.2933\n",
            "Epoch 7/50\n",
            "600/600 [==============================] - 2s 3ms/step - loss: 0.2907 - val_loss: 0.2925\n",
            "Epoch 8/50\n",
            "600/600 [==============================] - 2s 3ms/step - loss: 0.2899 - val_loss: 0.2918\n",
            "Epoch 9/50\n",
            "600/600 [==============================] - 2s 3ms/step - loss: 0.2893 - val_loss: 0.2912\n",
            "Epoch 10/50\n",
            "600/600 [==============================] - 2s 3ms/step - loss: 0.2888 - val_loss: 0.2908\n",
            "Epoch 11/50\n",
            "600/600 [==============================] - 2s 3ms/step - loss: 0.2884 - val_loss: 0.2905\n",
            "Epoch 12/50\n",
            "600/600 [==============================] - 2s 3ms/step - loss: 0.2880 - val_loss: 0.2904\n",
            "Epoch 13/50\n",
            "600/600 [==============================] - 2s 3ms/step - loss: 0.2874 - val_loss: 0.2894\n",
            "Epoch 14/50\n",
            "600/600 [==============================] - 2s 3ms/step - loss: 0.2870 - val_loss: 0.2891\n",
            "Epoch 15/50\n",
            "600/600 [==============================] - 2s 3ms/step - loss: 0.2867 - val_loss: 0.2890\n",
            "Epoch 16/50\n",
            "600/600 [==============================] - 2s 3ms/step - loss: 0.2865 - val_loss: 0.2886\n",
            "Epoch 17/50\n",
            "600/600 [==============================] - 2s 3ms/step - loss: 0.2863 - val_loss: 0.2886\n",
            "Epoch 18/50\n",
            "600/600 [==============================] - 2s 3ms/step - loss: 0.2861 - val_loss: 0.2885\n",
            "Epoch 19/50\n",
            "600/600 [==============================] - 2s 3ms/step - loss: 0.2860 - val_loss: 0.2883\n",
            "Epoch 20/50\n",
            "600/600 [==============================] - 2s 3ms/step - loss: 0.2858 - val_loss: 0.2882\n",
            "Epoch 21/50\n",
            "600/600 [==============================] - 2s 3ms/step - loss: 0.2857 - val_loss: 0.2880\n",
            "Epoch 22/50\n",
            "600/600 [==============================] - 2s 3ms/step - loss: 0.2856 - val_loss: 0.2878\n",
            "Epoch 23/50\n",
            "600/600 [==============================] - 2s 3ms/step - loss: 0.2855 - val_loss: 0.2880\n",
            "Epoch 24/50\n",
            "600/600 [==============================] - 2s 3ms/step - loss: 0.2853 - val_loss: 0.2877\n",
            "Epoch 25/50\n",
            "600/600 [==============================] - 2s 3ms/step - loss: 0.2852 - val_loss: 0.2878\n",
            "Epoch 26/50\n",
            "600/600 [==============================] - 2s 3ms/step - loss: 0.2852 - val_loss: 0.2874\n",
            "Epoch 27/50\n",
            "600/600 [==============================] - 2s 3ms/step - loss: 0.2851 - val_loss: 0.2874\n",
            "Epoch 28/50\n",
            "600/600 [==============================] - 2s 3ms/step - loss: 0.2850 - val_loss: 0.2873\n",
            "Epoch 29/50\n",
            "600/600 [==============================] - 2s 3ms/step - loss: 0.2849 - val_loss: 0.2872\n",
            "Epoch 30/50\n",
            "600/600 [==============================] - 2s 3ms/step - loss: 0.2848 - val_loss: 0.2872\n",
            "Epoch 31/50\n",
            "600/600 [==============================] - 2s 3ms/step - loss: 0.2848 - val_loss: 0.2872\n",
            "Epoch 32/50\n",
            "600/600 [==============================] - 2s 3ms/step - loss: 0.2847 - val_loss: 0.2871\n",
            "Epoch 33/50\n",
            "600/600 [==============================] - 2s 3ms/step - loss: 0.2846 - val_loss: 0.2875\n",
            "Epoch 34/50\n",
            "600/600 [==============================] - 2s 3ms/step - loss: 0.2846 - val_loss: 0.2874\n",
            "Epoch 35/50\n",
            "600/600 [==============================] - 2s 3ms/step - loss: 0.2845 - val_loss: 0.2870\n",
            "Epoch 36/50\n",
            "600/600 [==============================] - 2s 3ms/step - loss: 0.2844 - val_loss: 0.2867\n",
            "Epoch 37/50\n",
            "600/600 [==============================] - 2s 3ms/step - loss: 0.2844 - val_loss: 0.2870\n",
            "Epoch 38/50\n",
            "600/600 [==============================] - 2s 3ms/step - loss: 0.2844 - val_loss: 0.2868\n",
            "Epoch 39/50\n",
            "600/600 [==============================] - 2s 3ms/step - loss: 0.2844 - val_loss: 0.2868\n",
            "Epoch 40/50\n",
            "600/600 [==============================] - 2s 3ms/step - loss: 0.2843 - val_loss: 0.2866\n",
            "Epoch 41/50\n",
            "600/600 [==============================] - 2s 3ms/step - loss: 0.2843 - val_loss: 0.2865\n",
            "Epoch 42/50\n",
            "600/600 [==============================] - 2s 3ms/step - loss: 0.2842 - val_loss: 0.2866\n",
            "Epoch 43/50\n",
            "600/600 [==============================] - 2s 3ms/step - loss: 0.2842 - val_loss: 0.2865\n",
            "Epoch 44/50\n",
            "600/600 [==============================] - 2s 3ms/step - loss: 0.2841 - val_loss: 0.2866\n",
            "Epoch 45/50\n",
            "600/600 [==============================] - 2s 3ms/step - loss: 0.2841 - val_loss: 0.2864\n",
            "Epoch 46/50\n",
            "600/600 [==============================] - 2s 3ms/step - loss: 0.2841 - val_loss: 0.2865\n",
            "Epoch 47/50\n",
            "600/600 [==============================] - 2s 3ms/step - loss: 0.2840 - val_loss: 0.2863\n",
            "Epoch 48/50\n",
            "600/600 [==============================] - 2s 3ms/step - loss: 0.2840 - val_loss: 0.2866\n",
            "Epoch 49/50\n",
            "600/600 [==============================] - 2s 3ms/step - loss: 0.2840 - val_loss: 0.2863\n",
            "Epoch 50/50\n",
            "600/600 [==============================] - 2s 3ms/step - loss: 0.2839 - val_loss: 0.2862\n"
          ]
        }
      ]
    },
    {
      "cell_type": "markdown",
      "source": [
        "### **Evaluate The Model**"
      ],
      "metadata": {
        "id": "37LNBNhszAEz"
      }
    },
    {
      "cell_type": "code",
      "source": [
        "# Trainning & Validation loss \n",
        "t_avg = sum(ae_history.history['loss'])/len(ae_history.history['loss'])\n",
        "v_avg = sum(ae_history.history['val_loss'])/len(ae_history.history['val_loss'])\n",
        "\n",
        "print(\"The Trainning Loss \", round(t_avg,4))\n",
        "print(\"The Validation Loss \", round(v_avg,4))"
      ],
      "metadata": {
        "colab": {
          "base_uri": "https://localhost:8080/"
        },
        "id": "j6VaB0SolJuI",
        "outputId": "7d62ff63-6605-4edd-ecd9-eb0179edf56f"
      },
      "execution_count": 24,
      "outputs": [
        {
          "output_type": "stream",
          "name": "stdout",
          "text": [
            "The Trainning Loss  0.2887\n",
            "The Validation Loss  0.2897\n"
          ]
        }
      ]
    },
    {
      "cell_type": "markdown",
      "source": [
        "### **Display Original & Reconstructed Images**"
      ],
      "metadata": {
        "id": "KsIxrLPozfw7"
      }
    },
    {
      "cell_type": "code",
      "source": [
        "# Encode and decode some digits\n",
        "# Note that we take them from the *test* set\n",
        "encoded_imgs = encoder.predict(x_test)\n",
        "decoded_imgs = decoder.predict(encoded_imgs)"
      ],
      "metadata": {
        "id": "Pnj8-drUBg8o"
      },
      "execution_count": 25,
      "outputs": []
    },
    {
      "cell_type": "code",
      "source": [
        "n = 10  # How many digits we will display\n",
        "plt.figure(figsize=(12, 3))\n",
        "for i in range(n):\n",
        "    # Display original\n",
        "    ax = plt.subplot(2, n, i + 1)\n",
        "    plt.imshow(x_test[i].reshape(28, 28))\n",
        "    plt.gray()\n",
        "    ax.get_xaxis().set_visible(False)\n",
        "    ax.get_yaxis().set_visible(False)\n",
        "\n",
        "    # Display reconstruction\n",
        "    ax = plt.subplot(2, n, i + 1 + n)\n",
        "    plt.imshow(decoded_imgs[i].reshape(28, 28))\n",
        "    plt.gray()\n",
        "    ax.get_xaxis().set_visible(False)\n",
        "    ax.get_yaxis().set_visible(False)\n",
        "plt.show()"
      ],
      "metadata": {
        "id": "q9OSaeeHErUb",
        "colab": {
          "base_uri": "https://localhost:8080/",
          "height": 180
        },
        "outputId": "c14acfd0-c34b-4182-b5db-3f5d830ff81c"
      },
      "execution_count": 26,
      "outputs": [
        {
          "output_type": "display_data",
          "data": {
            "text/plain": [
              "<Figure size 864x216 with 20 Axes>"
            ],
            "image/png": "[encoded data removed]"
          },
          "metadata": {
            "needs_background": "light"
          }
        }
      ]
    },
    {
      "cell_type": "markdown",
      "source": [
        "### **Plot Testing & Validation Loss**"
      ],
      "metadata": {
        "id": "lcS60JkLzLkT"
      }
    },
    {
      "cell_type": "code",
      "source": [
        "plot_metric(ae_history, 'loss')"
      ],
      "metadata": {
        "id": "ARF-tSfuNYbD",
        "colab": {
          "base_uri": "https://localhost:8080/",
          "height": 295
        },
        "outputId": "ab79c116-5af5-47e6-d306-3d3649b1ca93"
      },
      "execution_count": 27,
      "outputs": [
        {
          "output_type": "display_data",
          "data": {
            "text/plain": [
              "<Figure size 432x288 with 1 Axes>"
            ],
            "image/png": "[encoded data removed]"
          },
          "metadata": {
            "needs_background": "light"
          }
        }
      ]
    }
  ]
}